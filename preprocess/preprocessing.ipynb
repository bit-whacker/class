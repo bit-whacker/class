{
 "cells": [
  {
   "cell_type": "markdown",
   "metadata": {},
   "source": [
    "### In this tutorial, we will discuss how to extract request count by timeslot (hourly, daily, yearly) and how to save the csv by updating "
   ]
  },
  {
   "cell_type": "code",
   "execution_count": 2,
   "metadata": {},
   "outputs": [],
   "source": [
    "import pandas as pd\n",
    "import numpy as np\n",
    "import os"
   ]
  },
  {
   "cell_type": "code",
   "execution_count": 4,
   "metadata": {},
   "outputs": [
    {
     "data": {
      "text/html": [
       "<div>\n",
       "<style scoped>\n",
       "    .dataframe tbody tr th:only-of-type {\n",
       "        vertical-align: middle;\n",
       "    }\n",
       "\n",
       "    .dataframe tbody tr th {\n",
       "        vertical-align: top;\n",
       "    }\n",
       "\n",
       "    .dataframe thead th {\n",
       "        text-align: right;\n",
       "    }\n",
       "</style>\n",
       "<table border=\"1\" class=\"dataframe\">\n",
       "  <thead>\n",
       "    <tr style=\"text-align: right;\">\n",
       "      <th></th>\n",
       "      <th>userId</th>\n",
       "      <th>movieId</th>\n",
       "      <th>rating</th>\n",
       "      <th>timestamp</th>\n",
       "      <th>tstamp_hour</th>\n",
       "      <th>tstamp_day</th>\n",
       "      <th>tstamp_year</th>\n",
       "      <th>genres</th>\n",
       "      <th>releaseDate</th>\n",
       "    </tr>\n",
       "  </thead>\n",
       "  <tbody>\n",
       "    <tr>\n",
       "      <th>0</th>\n",
       "      <td>1</td>\n",
       "      <td>110</td>\n",
       "      <td>1.0</td>\n",
       "      <td>1425941529</td>\n",
       "      <td>396095.0</td>\n",
       "      <td>16504.0</td>\n",
       "      <td>46.0</td>\n",
       "      <td>51</td>\n",
       "      <td>1995.0</td>\n",
       "    </tr>\n",
       "    <tr>\n",
       "      <th>1</th>\n",
       "      <td>1</td>\n",
       "      <td>147</td>\n",
       "      <td>4.5</td>\n",
       "      <td>1425942435</td>\n",
       "      <td>396096.0</td>\n",
       "      <td>16504.0</td>\n",
       "      <td>46.0</td>\n",
       "      <td>12</td>\n",
       "      <td>1995.0</td>\n",
       "    </tr>\n",
       "    <tr>\n",
       "      <th>2</th>\n",
       "      <td>1</td>\n",
       "      <td>858</td>\n",
       "      <td>5.0</td>\n",
       "      <td>1425941523</td>\n",
       "      <td>396095.0</td>\n",
       "      <td>16504.0</td>\n",
       "      <td>46.0</td>\n",
       "      <td>14</td>\n",
       "      <td>1972.0</td>\n",
       "    </tr>\n",
       "  </tbody>\n",
       "</table>\n",
       "</div>"
      ],
      "text/plain": [
       "   userId  movieId  rating   timestamp  tstamp_hour  tstamp_day  tstamp_year  \\\n",
       "0       1      110     1.0  1425941529     396095.0     16504.0         46.0   \n",
       "1       1      147     4.5  1425942435     396096.0     16504.0         46.0   \n",
       "2       1      858     5.0  1425941523     396095.0     16504.0         46.0   \n",
       "\n",
       "   genres  releaseDate  \n",
       "0      51       1995.0  \n",
       "1      12       1995.0  \n",
       "2      14       1972.0  "
      ]
     },
     "execution_count": 4,
     "metadata": {},
     "output_type": "execute_result"
    }
   ],
   "source": [
    "##### Load joined.csv #######\n",
    "df = pd.read_csv('joined.csv', encoding='utf-8').drop('Unnamed: 0',1)\n",
    "df.head(3)"
   ]
  },
  {
   "cell_type": "markdown",
   "metadata": {},
   "source": [
    "### Convert timestamp information into category"
   ]
  },
  {
   "cell_type": "code",
   "execution_count": 6,
   "metadata": {},
   "outputs": [
    {
     "data": {
      "text/plain": [
       "[16504.0, 10036.0, 12131.0, 12068.0, 10989.0, ..., 9542.0, 9547.0, 9533.0, 9550.0, 9579.0]\n",
       "Length: 7774\n",
       "Categories (7774, float64): [16504.0, 10036.0, 12131.0, 12068.0, ..., 9547.0, 9533.0, 9550.0, 9579.0]"
      ]
     },
     "execution_count": 6,
     "metadata": {},
     "output_type": "execute_result"
    }
   ],
   "source": [
    "#calculate count with timestamp\n",
    "cat = df['tstamp_day'].astype('category')\n",
    "cat =cat.unique()\n",
    "cat"
   ]
  },
  {
   "cell_type": "code",
   "execution_count": 10,
   "metadata": {},
   "outputs": [],
   "source": [
    "### to run sample dataest ###\n",
    "\n",
    "for i in range(10): #for ten timeslot\n",
    "    df_tmp=df[df['tstamp_day']==cat[i]]\n",
    "    df_group =df_tmp.groupby(['movieId']).count().reset_index().rename(columns={'userId': 'label'}) #get count by time stamp\n",
    "    df_group['label_nom']=df_group['label']/np.sum(df_group['label'])\n",
    "\n",
    "    cols = ['movieId']\n",
    "    ext = ['label','label_nom']\n",
    "    df_tmp= df_tmp.join(df_group.set_index(cols)[ext], on=cols)\n",
    "    \n",
    "\n",
    "#     ######Save df_tmp #######\n",
    "#     # if file does not exist write header\n",
    "#     if not os.path.isfile('preprocess.csv'):\n",
    "#         df_tmp.to_csv('preprocess.csv', header='column_names')\n",
    "#     else:  # else it exists so append without writing the header\n",
    "#         df_tmp.to_csv('preprocess.csv', mode='a', header=False)"
   ]
  },
  {
   "cell_type": "code",
   "execution_count": null,
   "metadata": {},
   "outputs": [],
   "source": [
    "### to run complete dataset ######\n",
    "for i in range(len(cat)):\n",
    "    df_tmp=df[df['tstamp_day']==cat[i]]\n",
    "    df_group =df_tmp.groupby(['movieId']).count().reset_index().rename(columns={'userId': 'label'}) #get count by time stamp\n",
    "    df_group['label_nom']=df_group['label']/np.sum(df_group['label'])\n",
    "    print(df_group.head(3))\n",
    "    cols = ['movieId']\n",
    "    ext = ['label','label_nom']\n",
    "    df_tmp= df_tmp.join(df_group.set_index(cols)[ext], on=cols)\n",
    "    print(df_tmp.head(3))\n",
    "\n",
    "    ######Save df_tmp #######\n",
    "    # if file does not exist write header\n",
    "    if not os.path.isfile('preprocess.csv'):\n",
    "        df_tmp.to_csv('preprocess.csv', header='column_names')\n",
    "    else:  # else it exists so append without writing the header\n",
    "        df_tmp.to_csv('preprocess.csv', mode='a', header=False)"
   ]
  }
 ],
 "metadata": {
  "kernelspec": {
   "display_name": "Python 3",
   "language": "python",
   "name": "python3"
  },
  "language_info": {
   "codemirror_mode": {
    "name": "ipython",
    "version": 3
   },
   "file_extension": ".py",
   "mimetype": "text/x-python",
   "name": "python",
   "nbconvert_exporter": "python",
   "pygments_lexer": "ipython3",
   "version": "3.6.2"
  }
 },
 "nbformat": 4,
 "nbformat_minor": 2
}
