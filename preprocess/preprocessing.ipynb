{
 "cells": [
  {
   "cell_type": "code",
   "execution_count": null,
   "metadata": {},
   "outputs": [],
   "source": [
    "import pandas as pd\n",
    "import numpy as np\n",
    "import os"
   ]
  },
  {
   "cell_type": "code",
   "execution_count": null,
   "metadata": {},
   "outputs": [],
   "source": [
    "##### Load joined.csv #######\n",
    "df = pd.read_csv('joined.csv', encoding='utf-8').drop('Unnamed: 0',1)\n",
    "df.head(3)"
   ]
  },
  {
   "cell_type": "code",
   "execution_count": null,
   "metadata": {},
   "outputs": [],
   "source": [
    "#calculate count with timestamp\n",
    "cat = df['tstamp_day'].astype('category')\n",
    "cat"
   ]
  },
  {
   "cell_type": "code",
   "execution_count": null,
   "metadata": {},
   "outputs": [],
   "source": [
    "for i in range(len(cat)):\n",
    "    df_tmp=df[df['tstamp_day']==cat[i]]\n",
    "    df_group =df_tmp.groupby(['movieId']).count().reset_index().rename(columns={'userId': 'label'}) #get count by time stamp\n",
    "    df_group['label_nom']=df_group['label']/np.sum(df_group['label'])\n",
    "    print(df_group.head(3))\n",
    "    cols = ['movieId']\n",
    "    ext = ['label','label_nom']\n",
    "    df_tmp= df_tmp.join(df_group.set_index(cols)[ext], on=cols)\n",
    "    print(df_tmp.head(3))\n",
    "\n",
    "    ######Save df_tmp #######\n",
    "    # if file does not exist write header\n",
    "    if not os.path.isfile('preprocess.csv'):\n",
    "        df_tmp.to_csv('preprocess.csv', header='column_names')\n",
    "    else:  # else it exists so append without writing the header\n",
    "        df_tmp.to_csv('preprocess.csv', mode='a', header=False)"
   ]
  }
 ],
 "metadata": {
  "kernelspec": {
   "display_name": "Python 3",
   "language": "python",
   "name": "python3"
  },
  "language_info": {
   "codemirror_mode": {
    "name": "ipython",
    "version": 3
   },
   "file_extension": ".py",
   "mimetype": "text/x-python",
   "name": "python",
   "nbconvert_exporter": "python",
   "pygments_lexer": "ipython3",
   "version": "3.6.2"
  }
 },
 "nbformat": 4,
 "nbformat_minor": 2
}
