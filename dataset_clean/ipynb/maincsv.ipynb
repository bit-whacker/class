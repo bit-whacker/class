{
 "cells": [
  {
   "cell_type": "code",
   "execution_count": 1,
   "metadata": {},
   "outputs": [],
   "source": [
    "import os\n",
    "import pandas as pd\n",
    "import numpy as np\n",
    "import dask.dataframe as dd #to load large csv\n",
    "import moviecsv_reader as movreader\n",
    "import ratingcsv_reader as ratingreader"
   ]
  },
  {
   "cell_type": "code",
   "execution_count": 2,
   "metadata": {},
   "outputs": [],
   "source": [
    "condition = 'daily' # choose 1) hourly, 2)daily, 3) yearly\n",
    "complete = False"
   ]
  },
  {
   "cell_type": "code",
   "execution_count": null,
   "metadata": {},
   "outputs": [],
   "source": [
    "#####run mov reader and rating reader\n",
    "movreader.movreader()\n",
    "ratingreader.ratingreader(condition)"
   ]
  },
  {
   "cell_type": "code",
   "execution_count": null,
   "metadata": {},
   "outputs": [],
   "source": [
    "##### Load csv #######\n",
    "print(\"Start combining 'movies.csv and rating.csv'\")\n",
    "df_movie = pd.read_csv('dataset_processed/movies_processed.csv').drop('Unnamed: 0',1)\n",
    "df_rating = dd.read_csv('dataset_processed/rating_processed.csv').drop(['Unnamed: 0','userId'],1)\n",
    "df_movie.head(3)\n",
    "df_rating.head(3)"
   ]
  },
  {
   "cell_type": "code",
   "execution_count": null,
   "metadata": {},
   "outputs": [],
   "source": [
    "####extract the timeslots ID #####\n",
    "t_slot_df =df_rating[condition].astype('category').unique().compute()\n",
    "print(\"This dataset_clean has\",len(t_slot_df), \"timeslots\" )"
   ]
  },
  {
   "cell_type": "code",
   "execution_count": null,
   "metadata": {},
   "outputs": [],
   "source": [
    "###### construct the dataset_clean for each timeslot ID #######\n",
    "if complete == False:\n",
    "    len = 1\n",
    "else:\n",
    "    len =len(t_slot_df)\n",
    "\n",
    "for i in range(len):\n",
    "    df_tmp=df_rating[df_rating[condition]==t_slot_df[i]].compute()\n",
    "    t_stamp = df_tmp[condition].iloc[0] #extract timeslot ID\n",
    "    movie_stats = df_tmp.groupby('movieId').agg({'rating': [np.size, np.mean]}) #np.size =>to get request count for each timeslot, np.mean => to get average rating for each time slot\n",
    "    movie_stats=movie_stats['rating'].reset_index().rename(columns={'size': 'label', 'mean': 'avg_rating'}) #rename colums name\n",
    "    movie_stats['label_n']= movie_stats['label']/np.sum(movie_stats['label']) #calclualte normalized request count for each timeslot and named as 'label_n'\n",
    "    # print(movie_stats)\n",
    "    ####join two datasets\n",
    "    col = ['movieId'] # define the index\n",
    "    ext = ['genres','releaseDate'] #define the colums you want to add\n",
    "    df_tmp = movie_stats.join(df_movie.set_index(col)[ext], on=col)\n",
    "    df_tmp[condition] = t_stamp\n",
    "    # print(df_tmp)\n",
    "\n",
    "\n",
    "    ######Save df_tmp #######\n",
    "    # if file does not exist write header\n",
    "    if not os.path.isfile('dataset_processed/combined.csv'):\n",
    "        df_tmp.to_csv('dataset_processed/combined.csv', header='column_names')\n",
    "        del df_tmp\n",
    "        print(\"timeslot\", i, 'is completed and remaining ', (len-1)-i, 'slots' )\n",
    "    else:  # else it exists so append without writing the header\n",
    "        df_tmp.to_csv('dataset_processed/combined.csv', mode='a', header=False)\n",
    "        del df_tmp\n",
    "        print(\"timeslot\", i, 'is completed and remaining ', (len - 1) - i, 'slots')"
   ]
  }
 ],
 "metadata": {
  "kernelspec": {
   "display_name": "Python 3",
   "language": "python",
   "name": "python3"
  },
  "language_info": {
   "codemirror_mode": {
    "name": "ipython",
    "version": 3
   },
   "file_extension": ".py",
   "mimetype": "text/x-python",
   "name": "python",
   "nbconvert_exporter": "python",
   "pygments_lexer": "ipython3",
   "version": "3.6.2"
  }
 },
 "nbformat": 4,
 "nbformat_minor": 2
}
